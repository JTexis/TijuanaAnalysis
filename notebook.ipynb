{
 "cells": [
  {
   "cell_type": "code",
   "execution_count": 1,
   "metadata": {},
   "outputs": [],
   "source": [
    "#Import libraries\n",
    "import pandas as pd\n",
    "import matplotlib.pyplot as plt\n",
    "import seaborn as sns\n",
    "import collection as c\n"
   ]
  },
  {
   "cell_type": "code",
   "execution_count": 2,
   "metadata": {},
   "outputs": [
    {
     "name": "stderr",
     "output_type": "stream",
     "text": [
      "C:\\Users\\rtexi\\AppData\\Local\\Temp\\ipykernel_23372\\3090676172.py:2: DtypeWarning: Columns (35) have mixed types. Specify dtype option on import or set low_memory=False.\n",
      "  df = pd.read_csv('denue_inegi_02_.csv', encoding='latin-1')\n"
     ]
    },
    {
     "name": "stdout",
     "output_type": "stream",
     "text": [
      "<class 'pandas.core.frame.DataFrame'>\n",
      "RangeIndex: 126088 entries, 0 to 126087\n",
      "Data columns (total 42 columns):\n",
      " #   Column      Non-Null Count   Dtype  \n",
      "---  ------      --------------   -----  \n",
      " 0   id          126088 non-null  int64  \n",
      " 1   clee        126088 non-null  object \n",
      " 2   nom_estab   126088 non-null  object \n",
      " 3   raz_social  36458 non-null   object \n",
      " 4   codigo_act  126088 non-null  int64  \n",
      " 5   nombre_act  126088 non-null  object \n",
      " 6   per_ocu     126088 non-null  object \n",
      " 7   tipo_vial   125449 non-null  object \n",
      " 8   nom_vial    126087 non-null  object \n",
      " 9   tipo_v_e_1  122662 non-null  object \n",
      " 10  nom_v_e_1   123022 non-null  object \n",
      " 11  tipo_v_e_2  122663 non-null  object \n",
      " 12  nom_v_e_2   123015 non-null  object \n",
      " 13  tipo_v_e_3  122703 non-null  object \n",
      " 14  nom_v_e_3   122984 non-null  object \n",
      " 15  numero_ext  93710 non-null   float64\n",
      " 16  letra_ext   49435 non-null   object \n",
      " 17  edificio    14128 non-null   object \n",
      " 18  edificio_e  14670 non-null   object \n",
      " 19  numero_int  45804 non-null   float64\n",
      " 20  letra_int   8543 non-null    object \n",
      " 21  tipo_asent  125654 non-null  object \n",
      " 22  nomb_asent  126008 non-null  object \n",
      " 23  tipoCenCom  14877 non-null   object \n",
      " 24  nom_CenCom  14943 non-null   object \n",
      " 25  num_local   14622 non-null   object \n",
      " 26  cod_postal  124210 non-null  float64\n",
      " 27  cve_ent     126088 non-null  int64  \n",
      " 28  entidad     126088 non-null  object \n",
      " 29  cve_mun     126088 non-null  int64  \n",
      " 30  municipio   126088 non-null  object \n",
      " 31  cve_loc     126088 non-null  int64  \n",
      " 32  localidad   126088 non-null  object \n",
      " 33  ageb        126088 non-null  object \n",
      " 34  manzana     126088 non-null  int64  \n",
      " 35  telefono    48392 non-null   object \n",
      " 36  correoelec  28549 non-null   object \n",
      " 37  www         10582 non-null   object \n",
      " 38  tipoUniEco  126088 non-null  object \n",
      " 39  latitud     126088 non-null  float64\n",
      " 40  longitud    126088 non-null  float64\n",
      " 41  fecha_alta  126088 non-null  object \n",
      "dtypes: float64(5), int64(6), object(31)\n",
      "memory usage: 40.4+ MB\n"
     ]
    },
    {
     "data": {
      "text/html": [
       "<div>\n",
       "<style scoped>\n",
       "    .dataframe tbody tr th:only-of-type {\n",
       "        vertical-align: middle;\n",
       "    }\n",
       "\n",
       "    .dataframe tbody tr th {\n",
       "        vertical-align: top;\n",
       "    }\n",
       "\n",
       "    .dataframe thead th {\n",
       "        text-align: right;\n",
       "    }\n",
       "</style>\n",
       "<table border=\"1\" class=\"dataframe\">\n",
       "  <thead>\n",
       "    <tr style=\"text-align: right;\">\n",
       "      <th></th>\n",
       "      <th>id</th>\n",
       "      <th>clee</th>\n",
       "      <th>nom_estab</th>\n",
       "      <th>raz_social</th>\n",
       "      <th>codigo_act</th>\n",
       "      <th>nombre_act</th>\n",
       "      <th>per_ocu</th>\n",
       "      <th>tipo_vial</th>\n",
       "      <th>nom_vial</th>\n",
       "      <th>tipo_v_e_1</th>\n",
       "      <th>...</th>\n",
       "      <th>localidad</th>\n",
       "      <th>ageb</th>\n",
       "      <th>manzana</th>\n",
       "      <th>telefono</th>\n",
       "      <th>correoelec</th>\n",
       "      <th>www</th>\n",
       "      <th>tipoUniEco</th>\n",
       "      <th>latitud</th>\n",
       "      <th>longitud</th>\n",
       "      <th>fecha_alta</th>\n",
       "    </tr>\n",
       "  </thead>\n",
       "  <tbody>\n",
       "    <tr>\n",
       "      <th>0</th>\n",
       "      <td>8320509</td>\n",
       "      <td>02002115111000041000000000S5</td>\n",
       "      <td>ABOS ABS PROMOTORA DE MEXICO SADE CV</td>\n",
       "      <td>NaN</td>\n",
       "      <td>115111</td>\n",
       "      <td>Servicios de fumigación agrícola</td>\n",
       "      <td>0 a 5 personas</td>\n",
       "      <td>CALLE</td>\n",
       "      <td>NINGUNO</td>\n",
       "      <td>CALLE</td>\n",
       "      <td>...</td>\n",
       "      <td>Ejido Hermosillo</td>\n",
       "      <td>8423</td>\n",
       "      <td>3</td>\n",
       "      <td>667603750</td>\n",
       "      <td>NaN</td>\n",
       "      <td>NaN</td>\n",
       "      <td>Fijo</td>\n",
       "      <td>32.523387</td>\n",
       "      <td>-114.917778</td>\n",
       "      <td>2019-11</td>\n",
       "    </tr>\n",
       "    <tr>\n",
       "      <th>1</th>\n",
       "      <td>8838283</td>\n",
       "      <td>02001112512000434000000000U6</td>\n",
       "      <td>ABULONES CULTIVADOS</td>\n",
       "      <td>ABULONES CULTIVADOS S DE RL DE CV</td>\n",
       "      <td>112512</td>\n",
       "      <td>Piscicultura y otra acuicultura, excepto camar...</td>\n",
       "      <td>11 a 30 personas</td>\n",
       "      <td>CALLE</td>\n",
       "      <td>Lázaro Cárdenas</td>\n",
       "      <td>CALLE</td>\n",
       "      <td>...</td>\n",
       "      <td>Ensenada</td>\n",
       "      <td>0717</td>\n",
       "      <td>16</td>\n",
       "      <td>NaN</td>\n",
       "      <td>MANAGER@ABULONES.COM</td>\n",
       "      <td>WWW.ABULONES.COM</td>\n",
       "      <td>Fijo</td>\n",
       "      <td>31.862157</td>\n",
       "      <td>-116.626707</td>\n",
       "      <td>2019-11</td>\n",
       "    </tr>\n",
       "    <tr>\n",
       "      <th>2</th>\n",
       "      <td>6166342</td>\n",
       "      <td>02001112512000205010000000U0</td>\n",
       "      <td>ACUACULTURA DE BAJA CALIFORNIA SA DE CV</td>\n",
       "      <td>ACUACULTURA DE BAJA CALIFORNIA</td>\n",
       "      <td>112512</td>\n",
       "      <td>Piscicultura y otra acuicultura, excepto camar...</td>\n",
       "      <td>51 a 100 personas</td>\n",
       "      <td>NaN</td>\n",
       "      <td>PRIMERA</td>\n",
       "      <td>NaN</td>\n",
       "      <td>...</td>\n",
       "      <td>El Sauzal de Rodríguez</td>\n",
       "      <td>0308</td>\n",
       "      <td>10</td>\n",
       "      <td>NaN</td>\n",
       "      <td>MONTERRUBIOJESUS@PRODIGY.NET.MX</td>\n",
       "      <td>NaN</td>\n",
       "      <td>Fijo</td>\n",
       "      <td>31.895264</td>\n",
       "      <td>-116.697901</td>\n",
       "      <td>2010-07</td>\n",
       "    </tr>\n",
       "  </tbody>\n",
       "</table>\n",
       "<p>3 rows × 42 columns</p>\n",
       "</div>"
      ],
      "text/plain": [
       "        id                          clee  \\\n",
       "0  8320509  02002115111000041000000000S5   \n",
       "1  8838283  02001112512000434000000000U6   \n",
       "2  6166342  02001112512000205010000000U0   \n",
       "\n",
       "                                 nom_estab                         raz_social  \\\n",
       "0     ABOS ABS PROMOTORA DE MEXICO SADE CV                                NaN   \n",
       "1                      ABULONES CULTIVADOS  ABULONES CULTIVADOS S DE RL DE CV   \n",
       "2  ACUACULTURA DE BAJA CALIFORNIA SA DE CV    ACUACULTURA DE BAJA CALIFORNIA    \n",
       "\n",
       "   codigo_act                                         nombre_act  \\\n",
       "0      115111                   Servicios de fumigación agrícola   \n",
       "1      112512  Piscicultura y otra acuicultura, excepto camar...   \n",
       "2      112512  Piscicultura y otra acuicultura, excepto camar...   \n",
       "\n",
       "             per_ocu tipo_vial         nom_vial tipo_v_e_1  ...  \\\n",
       "0     0 a 5 personas     CALLE          NINGUNO      CALLE  ...   \n",
       "1   11 a 30 personas     CALLE  Lázaro Cárdenas      CALLE  ...   \n",
       "2  51 a 100 personas       NaN          PRIMERA        NaN  ...   \n",
       "\n",
       "                localidad  ageb manzana   telefono  \\\n",
       "0        Ejido Hermosillo  8423       3  667603750   \n",
       "1                Ensenada  0717      16        NaN   \n",
       "2  El Sauzal de Rodríguez  0308      10        NaN   \n",
       "\n",
       "                        correoelec               www tipoUniEco    latitud  \\\n",
       "0                              NaN               NaN       Fijo  32.523387   \n",
       "1             MANAGER@ABULONES.COM  WWW.ABULONES.COM       Fijo  31.862157   \n",
       "2  MONTERRUBIOJESUS@PRODIGY.NET.MX               NaN       Fijo  31.895264   \n",
       "\n",
       "     longitud  fecha_alta  \n",
       "0 -114.917778     2019-11  \n",
       "1 -116.626707     2019-11  \n",
       "2 -116.697901     2010-07  \n",
       "\n",
       "[3 rows x 42 columns]"
      ]
     },
     "execution_count": 2,
     "metadata": {},
     "output_type": "execute_result"
    }
   ],
   "source": [
    "#Comvert csv file to DataFrame object\n",
    "df = pd.read_csv('denue_inegi_02_.csv', encoding='latin-1')\n",
    "\n",
    "#Print df info\n",
    "df.info()\n",
    "\n",
    "#Print df head\n",
    "df.head(3)"
   ]
  },
  {
   "cell_type": "markdown",
   "metadata": {},
   "source": [
    "### Let's talk about Tijuana...\n",
    "\n",
    "Once we have seen a brief overview of the data provided, lets see what more we can extract from it, our main focus will be Tijuana.\n",
    "\n",
    "Here, we would try to ask the following questions:\n",
    "\n",
    "1. **What is the zone that has more employability in TJ?**\n",
    "2. **What is the most representative industry in TJ?**\n",
    "3. **What kind of businesses have survived more than 10 years?**\n",
    "4. **What are the top 3 businees area, in terms of seniority and size (How many people is working in the business)**\n",
    "\n"
   ]
  },
  {
   "cell_type": "markdown",
   "metadata": {},
   "source": [
    "**1. What is the zone that has more employability in TJ? (Done)**\n",
    "\n",
    "First, we will start by defining our subset TJ."
   ]
  },
  {
   "cell_type": "code",
   "execution_count": 3,
   "metadata": {},
   "outputs": [
    {
     "name": "stdout",
     "output_type": "stream",
     "text": [
      "<class 'pandas.core.frame.DataFrame'>\n",
      "Int64Index: 60145 entries, 52 to 126081\n",
      "Data columns (total 42 columns):\n",
      " #   Column      Non-Null Count  Dtype  \n",
      "---  ------      --------------  -----  \n",
      " 0   id          60145 non-null  int64  \n",
      " 1   clee        60145 non-null  object \n",
      " 2   nom_estab   60145 non-null  object \n",
      " 3   raz_social  18187 non-null  object \n",
      " 4   codigo_act  60145 non-null  int64  \n",
      " 5   nombre_act  60145 non-null  object \n",
      " 6   per_ocu     60145 non-null  object \n",
      " 7   tipo_vial   59743 non-null  object \n",
      " 8   nom_vial    60145 non-null  object \n",
      " 9   tipo_v_e_1  58277 non-null  object \n",
      " 10  nom_v_e_1   58546 non-null  object \n",
      " 11  tipo_v_e_2  58275 non-null  object \n",
      " 12  nom_v_e_2   58540 non-null  object \n",
      " 13  tipo_v_e_3  58306 non-null  object \n",
      " 14  nom_v_e_3   58529 non-null  object \n",
      " 15  numero_ext  49148 non-null  float64\n",
      " 16  letra_ext   18664 non-null  object \n",
      " 17  edificio    9467 non-null   object \n",
      " 18  edificio_e  9679 non-null   object \n",
      " 19  numero_int  23765 non-null  float64\n",
      " 20  letra_int   5065 non-null   object \n",
      " 21  tipo_asent  59838 non-null  object \n",
      " 22  nomb_asent  60079 non-null  object \n",
      " 23  tipoCenCom  9656 non-null   object \n",
      " 24  nom_CenCom  9733 non-null   object \n",
      " 25  num_local   9463 non-null   object \n",
      " 26  cod_postal  59291 non-null  float64\n",
      " 27  cve_ent     60145 non-null  int64  \n",
      " 28  entidad     60145 non-null  object \n",
      " 29  cve_mun     60145 non-null  int64  \n",
      " 30  municipio   60145 non-null  object \n",
      " 31  cve_loc     60145 non-null  int64  \n",
      " 32  localidad   60145 non-null  object \n",
      " 33  ageb        60145 non-null  object \n",
      " 34  manzana     60145 non-null  int64  \n",
      " 35  telefono    21189 non-null  object \n",
      " 36  correoelec  14305 non-null  object \n",
      " 37  www         5407 non-null   object \n",
      " 38  tipoUniEco  60145 non-null  object \n",
      " 39  latitud     60145 non-null  float64\n",
      " 40  longitud    60145 non-null  float64\n",
      " 41  fecha_alta  60145 non-null  object \n",
      "dtypes: float64(5), int64(6), object(31)\n",
      "memory usage: 19.7+ MB\n"
     ]
    },
    {
     "data": {
      "text/html": [
       "<div>\n",
       "<style scoped>\n",
       "    .dataframe tbody tr th:only-of-type {\n",
       "        vertical-align: middle;\n",
       "    }\n",
       "\n",
       "    .dataframe tbody tr th {\n",
       "        vertical-align: top;\n",
       "    }\n",
       "\n",
       "    .dataframe thead th {\n",
       "        text-align: right;\n",
       "    }\n",
       "</style>\n",
       "<table border=\"1\" class=\"dataframe\">\n",
       "  <thead>\n",
       "    <tr style=\"text-align: right;\">\n",
       "      <th></th>\n",
       "      <th>id</th>\n",
       "      <th>clee</th>\n",
       "      <th>nom_estab</th>\n",
       "      <th>raz_social</th>\n",
       "      <th>codigo_act</th>\n",
       "      <th>nombre_act</th>\n",
       "      <th>per_ocu</th>\n",
       "      <th>tipo_vial</th>\n",
       "      <th>nom_vial</th>\n",
       "      <th>tipo_v_e_1</th>\n",
       "      <th>...</th>\n",
       "      <th>localidad</th>\n",
       "      <th>ageb</th>\n",
       "      <th>manzana</th>\n",
       "      <th>telefono</th>\n",
       "      <th>correoelec</th>\n",
       "      <th>www</th>\n",
       "      <th>tipoUniEco</th>\n",
       "      <th>latitud</th>\n",
       "      <th>longitud</th>\n",
       "      <th>fecha_alta</th>\n",
       "    </tr>\n",
       "  </thead>\n",
       "  <tbody>\n",
       "    <tr>\n",
       "      <th>52</th>\n",
       "      <td>9035194</td>\n",
       "      <td>02004115111000081000000000U7</td>\n",
       "      <td>CUSTOMER SOLUTION CO</td>\n",
       "      <td>CUSTOMER SOLUTION CO S DE RL DE CV</td>\n",
       "      <td>115111</td>\n",
       "      <td>Servicios de fumigación agrícola</td>\n",
       "      <td>0 a 5 personas</td>\n",
       "      <td>CALLE</td>\n",
       "      <td>SEXTA Y/O FLORES MAGON</td>\n",
       "      <td>AVENIDA</td>\n",
       "      <td>...</td>\n",
       "      <td>Tijuana</td>\n",
       "      <td>0206</td>\n",
       "      <td>3</td>\n",
       "      <td>6645621087</td>\n",
       "      <td>NaN</td>\n",
       "      <td>NaN</td>\n",
       "      <td>Fijo</td>\n",
       "      <td>32.530008</td>\n",
       "      <td>-117.04566</td>\n",
       "      <td>2019-11</td>\n",
       "    </tr>\n",
       "  </tbody>\n",
       "</table>\n",
       "<p>1 rows × 42 columns</p>\n",
       "</div>"
      ],
      "text/plain": [
       "         id                          clee             nom_estab  \\\n",
       "52  9035194  02004115111000081000000000U7  CUSTOMER SOLUTION CO   \n",
       "\n",
       "                            raz_social  codigo_act  \\\n",
       "52  CUSTOMER SOLUTION CO S DE RL DE CV      115111   \n",
       "\n",
       "                          nombre_act         per_ocu tipo_vial  \\\n",
       "52  Servicios de fumigación agrícola  0 a 5 personas     CALLE   \n",
       "\n",
       "                  nom_vial tipo_v_e_1  ... localidad  ageb manzana  \\\n",
       "52  SEXTA Y/O FLORES MAGON    AVENIDA  ...   Tijuana  0206       3   \n",
       "\n",
       "      telefono correoelec  www tipoUniEco    latitud   longitud  fecha_alta  \n",
       "52  6645621087        NaN  NaN       Fijo  32.530008 -117.04566     2019-11  \n",
       "\n",
       "[1 rows x 42 columns]"
      ]
     },
     "execution_count": 3,
     "metadata": {},
     "output_type": "execute_result"
    }
   ],
   "source": [
    "#Filter dataset\n",
    "tj = df[df['municipio'] == 'Tijuana'].copy()\n",
    "\n",
    "#Print tj info\n",
    "tj.info()\n",
    "\n",
    "#Print first observation of tj Dataframe\n",
    "tj.head(1)"
   ]
  },
  {
   "cell_type": "markdown",
   "metadata": {},
   "source": [
    "We can see that we have various types of variables, from which many are unnecesary in our analysis, lets start by dropping them!"
   ]
  },
  {
   "cell_type": "code",
   "execution_count": 4,
   "metadata": {},
   "outputs": [
    {
     "name": "stdout",
     "output_type": "stream",
     "text": [
      "<class 'pandas.core.frame.DataFrame'>\n",
      "Int64Index: 60145 entries, 52 to 126081\n",
      "Data columns (total 16 columns):\n",
      " #   Column      Non-Null Count  Dtype  \n",
      "---  ------      --------------  -----  \n",
      " 0   nom_estab   60145 non-null  object \n",
      " 1   raz_social  18187 non-null  object \n",
      " 2   codigo_act  60145 non-null  int64  \n",
      " 3   nombre_act  60145 non-null  object \n",
      " 4   per_ocu     60145 non-null  object \n",
      " 5   numero_ext  49148 non-null  float64\n",
      " 6   letra_ext   18664 non-null  object \n",
      " 7   tipo_asent  59838 non-null  object \n",
      " 8   nomb_asent  60079 non-null  object \n",
      " 9   cod_postal  59291 non-null  float64\n",
      " 10  entidad     60145 non-null  object \n",
      " 11  localidad   60145 non-null  object \n",
      " 12  manzana     60145 non-null  int64  \n",
      " 13  telefono    21189 non-null  object \n",
      " 14  correoelec  14305 non-null  object \n",
      " 15  www         5407 non-null   object \n",
      "dtypes: float64(2), int64(2), object(12)\n",
      "memory usage: 7.8+ MB\n"
     ]
    }
   ],
   "source": [
    "#Drop unnecesary columns (latitude, coordinates, etc...)\n",
    "tj.drop(columns=c.columns_to_drop, inplace=True)\n",
    "\n",
    "#Print tj DataFrame\n",
    "tj.info()\n"
   ]
  },
  {
   "cell_type": "markdown",
   "metadata": {},
   "source": [
    "As not exist an explicit column for assess the employability in TJ, we will use what we have at hand.\n",
    "\n",
    "First, we can see that we have some interesting columns:\n",
    "1. per_ocu (giving mention to 'personal ocupado', which tells us how many people are working in the company)\n",
    "2. localidad (zones where the business are located in)\n",
    "\n",
    "given that we cannot perform a direct relation operation because neither 'per_ocu' nor 'localidad' are numeric (both are categorical), we must have to transform at least one variable to make it a numerical type\n",
    "\n",
    "so for this, we have to re-scale the 'per_ocu' variable in a range from 0 to 5, starting from the companies with '0 to 5' employees with value 0 to companies with '251+' employees with value 7. Fortunately, we've already created a dictionary that contains the key-values for this variable, this dictionary is available in collection.py. Let's work!"
   ]
  },
  {
   "cell_type": "code",
   "execution_count": 5,
   "metadata": {},
   "outputs": [
    {
     "data": {
      "text/plain": [
       "array([  1,   6,  11,  31,  51, 251, 101], dtype=int64)"
      ]
     },
     "execution_count": 5,
     "metadata": {},
     "output_type": "execute_result"
    }
   ],
   "source": [
    "#Create a column called 'minimum_employees' with lambda filtration\n",
    "tj['minimum_employees'] = tj['per_ocu'].apply(lambda x: c.cat_to_num_perocu.get(x))\n",
    "\n",
    "#Print all unique values in 'minimum_employees'\n",
    "tj['minimum_employees'].unique()"
   ]
  },
  {
   "cell_type": "markdown",
   "metadata": {},
   "source": [
    "Once we have done that, we can group by 'localidad' and filter only the top 5 zones with minimum employees."
   ]
  },
  {
   "cell_type": "code",
   "execution_count": 6,
   "metadata": {},
   "outputs": [
    {
     "data": {
      "text/html": [
       "<div>\n",
       "<style scoped>\n",
       "    .dataframe tbody tr th:only-of-type {\n",
       "        vertical-align: middle;\n",
       "    }\n",
       "\n",
       "    .dataframe tbody tr th {\n",
       "        vertical-align: top;\n",
       "    }\n",
       "\n",
       "    .dataframe thead th {\n",
       "        text-align: right;\n",
       "    }\n",
       "</style>\n",
       "<table border=\"1\" class=\"dataframe\">\n",
       "  <thead>\n",
       "    <tr style=\"text-align: right;\">\n",
       "      <th></th>\n",
       "      <th>localidad</th>\n",
       "      <th>minimum_employees</th>\n",
       "    </tr>\n",
       "  </thead>\n",
       "  <tbody>\n",
       "    <tr>\n",
       "      <th>57</th>\n",
       "      <td>Tijuana</td>\n",
       "      <td>342800</td>\n",
       "    </tr>\n",
       "    <tr>\n",
       "      <th>61</th>\n",
       "      <td>Villa del Campo</td>\n",
       "      <td>749</td>\n",
       "    </tr>\n",
       "    <tr>\n",
       "      <th>56</th>\n",
       "      <td>Thomas Alva Edison [Parque Industrial]</td>\n",
       "      <td>720</td>\n",
       "    </tr>\n",
       "    <tr>\n",
       "      <th>9</th>\n",
       "      <td>El Niño</td>\n",
       "      <td>549</td>\n",
       "    </tr>\n",
       "    <tr>\n",
       "      <th>3</th>\n",
       "      <td>Cuesta Blanca</td>\n",
       "      <td>272</td>\n",
       "    </tr>\n",
       "  </tbody>\n",
       "</table>\n",
       "</div>"
      ],
      "text/plain": [
       "                                 localidad  minimum_employees\n",
       "57                                 Tijuana             342800\n",
       "61                         Villa del Campo                749\n",
       "56  Thomas Alva Edison [Parque Industrial]                720\n",
       "9                                  El Niño                549\n",
       "3                            Cuesta Blanca                272"
      ]
     },
     "execution_count": 6,
     "metadata": {},
     "output_type": "execute_result"
    }
   ],
   "source": [
    "#Grouping by manzana\n",
    "zone_minemployee = tj.groupby('localidad')['minimum_employees'].sum().reset_index()\n",
    "\n",
    "#Sort minimum employees values\n",
    "zone_minemployee = zone_minemployee.sort_values(by='minimum_employees', ascending=False)\n",
    "\n",
    "#Select top5zones_1\n",
    "top5zones_1 = zone_minemployee.head(5)\n",
    "\n",
    "#Print top5zones_1\n",
    "top5zones_1"
   ]
  },
  {
   "cell_type": "markdown",
   "metadata": {},
   "source": [
    "It seems like Tijuana is the zone added by default, given that we want to create a barplot, it would be better to drop that column, let's do it"
   ]
  },
  {
   "cell_type": "code",
   "execution_count": 7,
   "metadata": {},
   "outputs": [
    {
     "data": {
      "text/html": [
       "<div>\n",
       "<style scoped>\n",
       "    .dataframe tbody tr th:only-of-type {\n",
       "        vertical-align: middle;\n",
       "    }\n",
       "\n",
       "    .dataframe tbody tr th {\n",
       "        vertical-align: top;\n",
       "    }\n",
       "\n",
       "    .dataframe thead th {\n",
       "        text-align: right;\n",
       "    }\n",
       "</style>\n",
       "<table border=\"1\" class=\"dataframe\">\n",
       "  <thead>\n",
       "    <tr style=\"text-align: right;\">\n",
       "      <th></th>\n",
       "      <th>localidad</th>\n",
       "      <th>minimum_employees</th>\n",
       "    </tr>\n",
       "  </thead>\n",
       "  <tbody>\n",
       "    <tr>\n",
       "      <th>61</th>\n",
       "      <td>Villa del Campo</td>\n",
       "      <td>749</td>\n",
       "    </tr>\n",
       "    <tr>\n",
       "      <th>56</th>\n",
       "      <td>Thomas Alva Edison [Parque Industrial]</td>\n",
       "      <td>720</td>\n",
       "    </tr>\n",
       "    <tr>\n",
       "      <th>9</th>\n",
       "      <td>El Niño</td>\n",
       "      <td>549</td>\n",
       "    </tr>\n",
       "    <tr>\n",
       "      <th>3</th>\n",
       "      <td>Cuesta Blanca</td>\n",
       "      <td>272</td>\n",
       "    </tr>\n",
       "    <tr>\n",
       "      <th>58</th>\n",
       "      <td>Toyota [Motor Manufacturing de Baja California]</td>\n",
       "      <td>270</td>\n",
       "    </tr>\n",
       "  </tbody>\n",
       "</table>\n",
       "</div>"
      ],
      "text/plain": [
       "                                          localidad  minimum_employees\n",
       "61                                  Villa del Campo                749\n",
       "56           Thomas Alva Edison [Parque Industrial]                720\n",
       "9                                           El Niño                549\n",
       "3                                     Cuesta Blanca                272\n",
       "58  Toyota [Motor Manufacturing de Baja California]                270"
      ]
     },
     "execution_count": 7,
     "metadata": {},
     "output_type": "execute_result"
    }
   ],
   "source": [
    "#Create top10zones_1 DataFrame subseting all zones != 'Tijuana' in zone_minemployee\n",
    "top5zones_1 = zone_minemployee.loc[zone_minemployee['localidad'] != 'Tijuana'].head(5)\n",
    "\n",
    "#Print top10zones_1 DataFrame\n",
    "top5zones_1"
   ]
  },
  {
   "cell_type": "markdown",
   "metadata": {},
   "source": [
    "Now, lets plot the top 10 zones with minimum employees, or, in other words, the 5 zones with more chances to find more employees"
   ]
  },
  {
   "cell_type": "code",
   "execution_count": 8,
   "metadata": {},
   "outputs": [
    {
     "data": {
      "text/plain": [
       "(array([0, 1, 2, 3, 4]),\n",
       " [Text(0, 0, 'Villa del Campo'),\n",
       "  Text(1, 0, 'Thomas Alva Edison [PI]'),\n",
       "  Text(2, 0, 'El Niño'),\n",
       "  Text(3, 0, 'Cuesta Blanca'),\n",
       "  Text(4, 0, 'Toyota')])"
      ]
     },
     "execution_count": 8,
     "metadata": {},
     "output_type": "execute_result"
    },
    {
     "data": {
      "image/png": "[encoded data removed]",
      "text/plain": [
       "<Figure size 640x480 with 1 Axes>"
      ]
     },
     "metadata": {},
     "output_type": "display_data"
    }
   ],
   "source": [
    "#Definine barplot\n",
    "ax = sns.barplot(data = top5zones_1, x = 'localidad', y = 'minimum_employees')\n",
    "\n",
    "# Define custom labels for the x-axis\n",
    "custom_x_labels = ['Villa del Campo', 'Thomas Alva Edison [PI]', 'El Niño', 'Cuesta Blanca', 'Toyota']\n",
    "\n",
    "# Set custom labels for the x-axis\n",
    "ax.set_xticklabels(custom_x_labels)\n",
    "\n",
    "# Custom labels\n",
    "ax.set_ylabel('Num of Employees')\n",
    "ax.set_xlabel(' ')\n",
    "\n",
    "#rotate labels\n",
    "plt.xticks(rotation=90)\n"
   ]
  },
  {
   "cell_type": "markdown",
   "metadata": {},
   "source": [
    "The previous visualization reveals that the **top 5 zones** with the **highest number of minimum employees** in the locality of Tijuana are:\n",
    "\n",
    "1. **Villa Del Campo**\n",
    "2. **Thomas Alva Edison** (Industrial Zone)\n",
    "3. **El Niño**\n",
    "4. **Casa Blanca**\n",
    "5. **Toyota** (Manufacture Company - Industrial Zone)\n",
    "\n",
    "**We must be cautious about the information provided earlier, as this information was collected in the 2022. Also, recall that lot of observations were filtered, leaving out those observations with 'Tijuana' as locality.**"
   ]
  },
  {
   "cell_type": "markdown",
   "metadata": {},
   "source": [
    "2. **What is the most representative industry in TJ?**"
   ]
  },
  {
   "cell_type": "markdown",
   "metadata": {},
   "source": [
    "To adress this question, we must perform an analysis in those columns that gives us information about the industry that each business belongs to, if we take a brief look at the 'tj' dataframe we can see that we have some interesting columns that mey serves us to get good conclusions about the raised question. This columns are:\n",
    "\n",
    "1. nombre_act\n",
    "2. nom_estab\n",
    "3. minimum_employees\n",
    "\n"
   ]
  },
  {
   "cell_type": "markdown",
   "metadata": {},
   "source": [
    "First, lets take a look at the 'nombre_act' column, in this way we can see the state of the data"
   ]
  },
  {
   "cell_type": "code",
   "execution_count": 9,
   "metadata": {},
   "outputs": [
    {
     "data": {
      "text/plain": [
       "52                      Servicios de fumigación agrícola\n",
       "60                      Beneficio de productos agrícolas\n",
       "61                      Beneficio de productos agrícolas\n",
       "77                      Servicios de fumigación agrícola\n",
       "79     Pesca y captura de peces, crustáceos, moluscos...\n",
       "83                      Beneficio de productos agrícolas\n",
       "84       Otros servicios relacionados con la agricultura\n",
       "92     Piscicultura y otra acuicultura, excepto camar...\n",
       "228    Pesca y captura de peces, crustáceos, moluscos...\n",
       "291                     Beneficio de productos agrícolas\n",
       "316                     Servicios de fumigación agrícola\n",
       "326                     Servicios de fumigación agrícola\n",
       "Name: nombre_act, dtype: object"
      ]
     },
     "execution_count": 9,
     "metadata": {},
     "output_type": "execute_result"
    }
   ],
   "source": [
    "#Print the 'nombre_act' dataframe\n",
    "tj['nombre_act'].head(12)"
   ]
  },
  {
   "cell_type": "markdown",
   "metadata": {},
   "source": [
    "As we can see, the 'nombre_act' column has a description of the business, more specifically the sector to which the business fits in.\n",
    "\n",
    "this could be useful if we wanted to perform a deep analysis on each seactor, but, as we dont want to, we will only select the most representative word, that is, the first word of each observation and then save that element in a variable called 'sector' (tj['sector]). \n",
    "Lets do it!."
   ]
  },
  {
   "cell_type": "code",
   "execution_count": 10,
   "metadata": {},
   "outputs": [
    {
     "data": {
      "text/plain": [
       "52        Servicios\n",
       "60        Beneficio\n",
       "61        Beneficio\n",
       "77        Servicios\n",
       "79            Pesca\n",
       "83        Beneficio\n",
       "84            Otros\n",
       "92     Piscicultura\n",
       "228           Pesca\n",
       "291       Beneficio\n",
       "Name: sector, dtype: object"
      ]
     },
     "execution_count": 10,
     "metadata": {},
     "output_type": "execute_result"
    }
   ],
   "source": [
    "#Filter 'nombre_act' column by spliting each string and selecting the first element (word)\n",
    "tj['sector'] = tj['nombre_act'].apply(lambda x: x.split()[0])\n",
    "\n",
    "#Print the first 21 rows\n",
    "tj['sector'].head(10)"
   ]
  },
  {
   "cell_type": "markdown",
   "metadata": {},
   "source": [
    "Great, it seems that we've already filtered the first element and saved it in 'sector' column. Now, lets select the 5 most representative businesses sectors in Tijuana."
   ]
  },
  {
   "cell_type": "code",
   "execution_count": 11,
   "metadata": {},
   "outputs": [
    {
     "data": {
      "text/html": [
       "<div>\n",
       "<style scoped>\n",
       "    .dataframe tbody tr th:only-of-type {\n",
       "        vertical-align: middle;\n",
       "    }\n",
       "\n",
       "    .dataframe tbody tr th {\n",
       "        vertical-align: top;\n",
       "    }\n",
       "\n",
       "    .dataframe thead th {\n",
       "        text-align: right;\n",
       "    }\n",
       "</style>\n",
       "<table border=\"1\" class=\"dataframe\">\n",
       "  <thead>\n",
       "    <tr style=\"text-align: right;\">\n",
       "      <th></th>\n",
       "      <th>sector</th>\n",
       "      <th>minimum_employees</th>\n",
       "    </tr>\n",
       "  </thead>\n",
       "  <tbody>\n",
       "    <tr>\n",
       "      <th>60</th>\n",
       "      <td>Fabricación</td>\n",
       "      <td>77717</td>\n",
       "    </tr>\n",
       "    <tr>\n",
       "      <th>38</th>\n",
       "      <td>Comercio</td>\n",
       "      <td>72156</td>\n",
       "    </tr>\n",
       "    <tr>\n",
       "      <th>57</th>\n",
       "      <td>Escuelas</td>\n",
       "      <td>24245</td>\n",
       "    </tr>\n",
       "    <tr>\n",
       "      <th>123</th>\n",
       "      <td>Servicios</td>\n",
       "      <td>21525</td>\n",
       "    </tr>\n",
       "    <tr>\n",
       "      <th>119</th>\n",
       "      <td>Restaurantes</td>\n",
       "      <td>18255</td>\n",
       "    </tr>\n",
       "  </tbody>\n",
       "</table>\n",
       "</div>"
      ],
      "text/plain": [
       "           sector  minimum_employees\n",
       "60    Fabricación              77717\n",
       "38       Comercio              72156\n",
       "57       Escuelas              24245\n",
       "123     Servicios              21525\n",
       "119  Restaurantes              18255"
      ]
     },
     "execution_count": 11,
     "metadata": {},
     "output_type": "execute_result"
    }
   ],
   "source": [
    "#select the sum of the minimum employees in each business and group by sector\n",
    "industry_employees = tj.groupby('sector')['minimum_employees'].sum().reset_index()\n",
    "\n",
    "#Sort values in ascending, save the first 5 observations\n",
    "top5_2 = industry_employees.sort_values(by='minimum_employees', ascending=False).head(5)\n",
    "\n",
    "#Print the top5_2 df\n",
    "top5_2"
   ]
  },
  {
   "cell_type": "markdown",
   "metadata": {},
   "source": [
    "This looks fantastic, but, we will improve it performing a visualization of the insight!"
   ]
  },
  {
   "cell_type": "code",
   "execution_count": 12,
   "metadata": {},
   "outputs": [
    {
     "data": {
      "text/plain": [
       "(array([0, 1, 2, 3, 4]),\n",
       " [Text(0, 0, 'Fabricación'),\n",
       "  Text(1, 0, 'Comercio'),\n",
       "  Text(2, 0, 'Escuelas'),\n",
       "  Text(3, 0, 'Servicios'),\n",
       "  Text(4, 0, 'Restaurantes')])"
      ]
     },
     "execution_count": 12,
     "metadata": {},
     "output_type": "execute_result"
    },
    {
     "data": {
      "image/png": "[encoded data removed]",
      "text/plain": [
       "<Figure size 640x480 with 1 Axes>"
      ]
     },
     "metadata": {},
     "output_type": "display_data"
    }
   ],
   "source": [
    "#Definine barplot\n",
    "ax = sns.barplot(data = top5_2, x = 'sector', y = 'minimum_employees')\n",
    "\n",
    "# Custom labels\n",
    "ax.set_ylabel('Min. Num. of Employees')\n",
    "ax.set_xlabel(' ')\n",
    "\n",
    "#rotate labels\n",
    "plt.xticks(rotation=90)"
   ]
  },
  {
   "cell_type": "markdown",
   "metadata": {},
   "source": [
    "3. **What type of businesses have survived more than 10 years?**"
   ]
  }
 ],
 "metadata": {
  "kernelspec": {
   "display_name": "base",
   "language": "python",
   "name": "python3"
  },
  "language_info": {
   "codemirror_mode": {
    "name": "ipython",
    "version": 3
   },
   "file_extension": ".py",
   "mimetype": "text/x-python",
   "name": "python",
   "nbconvert_exporter": "python",
   "pygments_lexer": "ipython3",
   "version": "3.11.3"
  },
  "orig_nbformat": 4
 },
 "nbformat": 4,
 "nbformat_minor": 2
}
