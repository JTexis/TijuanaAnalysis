{
 "cells": [
  {
   "cell_type": "code",
   "execution_count": null,
   "metadata": {},
   "outputs": [],
   "source": [
    "#Import libraries\n",
    "import pandas as pd\n",
    "import matplotlib.pyplot as plt\n",
    "import seaborn as sns\n",
    "import collection as c #Rename collection package\n",
    "from datetime import datetime, timedelta\n"
   ]
  },
  {
   "cell_type": "code",
   "execution_count": null,
   "metadata": {},
   "outputs": [],
   "source": [
    "#Comvert csv file to DataFrame object\n",
    "df = pd.read_csv('denue_inegi_02_.csv', encoding='latin-1')\n",
    "\n",
    "#Print df info\n",
    "df.info()\n",
    "\n",
    "#Print df head\n",
    "df.head(3)"
   ]
  },
  {
   "cell_type": "markdown",
   "metadata": {},
   "source": [
    "### Let's talk about Tijuana...\n",
    "\n",
    "Once we have seen a brief overview of the data provided, lets see what more we can extract from it, our main focus will be Tijuana.\n",
    "\n",
    "Here, we would try to ask the following questions:\n",
    "\n",
    "1. **What is the zone that has more employability in TJ?**\n",
    "2. **What is the most representative industry in TJ?**\n",
    "3. **What kind of businesses have survived more than 10 years?**\n",
    "4. **What are the top 3 businees by sector, in terms of seniority and size (How many people is working in the business)**\n",
    "\n"
   ]
  },
  {
   "cell_type": "markdown",
   "metadata": {},
   "source": [
    "**1. What is the zone that has more employability in TJ? (Done)**\n",
    "\n",
    "First, we will start by defining our subset TJ."
   ]
  },
  {
   "cell_type": "code",
   "execution_count": null,
   "metadata": {},
   "outputs": [],
   "source": [
    "#Filter dataset\n",
    "tj = df[df['municipio'] == 'Tijuana'].copy()\n",
    "\n",
    "#Print tj info\n",
    "tj.info()\n",
    "\n",
    "#Print first observation of tj Dataframe\n",
    "tj.head(1)"
   ]
  },
  {
   "cell_type": "markdown",
   "metadata": {},
   "source": [
    "We can see that we have various types of variables, from which many are unnecesary in our analysis, lets start by dropping them!"
   ]
  },
  {
   "cell_type": "code",
   "execution_count": null,
   "metadata": {},
   "outputs": [],
   "source": [
    "#Drop unnecesary columns (latitude, coordinates, etc...)\n",
    "tj.drop(columns=c.columns_to_drop, inplace=True)\n",
    "\n",
    "#Print tj DataFrame\n",
    "tj.info()\n"
   ]
  },
  {
   "cell_type": "markdown",
   "metadata": {},
   "source": [
    "As not exist an explicit column for assess the employability in TJ, we will use what we have at hand.\n",
    "\n",
    "First, we can see that we have some interesting columns:\n",
    "1. per_ocu (giving mention to 'personal ocupado', which tells us how many people are working in the company)\n",
    "2. localidad (zones where the business are located in)\n",
    "\n",
    "given that we cannot perform a direct relation operation because neither 'per_ocu' nor 'localidad' are numeric (both are categorical), we must have to transform at least one variable to make it a numerical type\n",
    "\n",
    "so for this, we have to re-scale the 'per_ocu' variable, starting with the companies with '0 to 5' employees with value 1 (minimum possible) to companies with '251+' employees with value 251 (minimum possible). Fortunately, we've already created a dictionary that contains the key-values for this variable, this dictionary is available in collection.py. Let's work!"
   ]
  },
  {
   "cell_type": "code",
   "execution_count": null,
   "metadata": {},
   "outputs": [],
   "source": [
    "#Create a column called 'minimum_employees' with lambda filtration\n",
    "tj['minimum_employees'] = tj['per_ocu'].apply(lambda x: c.cat_to_num_perocu.get(x))\n",
    "\n",
    "#Print all unique values in 'minimum_employees'\n",
    "tj['minimum_employees'].unique()"
   ]
  },
  {
   "cell_type": "markdown",
   "metadata": {},
   "source": [
    "Once we have done that, we can group by 'localidad' and filter only the top 5 zones with minimum employees."
   ]
  },
  {
   "cell_type": "code",
   "execution_count": null,
   "metadata": {},
   "outputs": [],
   "source": [
    "#Grouping by manzana\n",
    "zone_minemployee = tj.groupby('localidad')['minimum_employees'].sum().reset_index()\n",
    "\n",
    "#Sort minimum employees values\n",
    "zone_minemployee = zone_minemployee.sort_values(by='minimum_employees', ascending=False)\n",
    "\n",
    "#Select top5zones_1\n",
    "top5zones_1 = zone_minemployee.head(5)\n",
    "\n",
    "#Print top5zones_1\n",
    "top5zones_1"
   ]
  },
  {
   "cell_type": "markdown",
   "metadata": {},
   "source": [
    "It seems like Tijuana is the zone added by default, given that we want to create a barplot, it would be better to drop that column, let's do it"
   ]
  },
  {
   "cell_type": "code",
   "execution_count": null,
   "metadata": {},
   "outputs": [],
   "source": [
    "#Create top10zones_1 DataFrame subseting all zones != 'Tijuana' in zone_minemployee\n",
    "top5zones_1 = zone_minemployee.loc[zone_minemployee['localidad'] != 'Tijuana'].head(5)\n",
    "\n",
    "#Print top10zones_1 DataFrame\n",
    "top5zones_1"
   ]
  },
  {
   "cell_type": "markdown",
   "metadata": {},
   "source": [
    "Now, lets plot the top 10 zones with minimum employees, or, in other words, the 5 zones with more chances to find more employees"
   ]
  },
  {
   "cell_type": "code",
   "execution_count": null,
   "metadata": {},
   "outputs": [],
   "source": [
    "#Definine barplot\n",
    "ax = sns.barplot(data = top5zones_1, x = 'localidad', y = 'minimum_employees')\n",
    "\n",
    "# Define custom labels for the x-axis\n",
    "custom_x_labels = ['Villa del Campo', 'Thomas Alva Edison [PI]', 'El Niño', 'Cuesta Blanca', 'Toyota']\n",
    "\n",
    "# Set custom labels for the x-axis\n",
    "ax.set_xticklabels(custom_x_labels)\n",
    "\n",
    "# Custom labels\n",
    "ax.set_ylabel('Num of Employees')\n",
    "ax.set_xlabel(' ')\n",
    "\n",
    "#rotate labels\n",
    "plt.xticks(rotation=90)\n"
   ]
  },
  {
   "cell_type": "markdown",
   "metadata": {},
   "source": [
    "The previous visualization reveals that the **top 5 zones** with the **highest number of minimum employees** in the locality of Tijuana are:\n",
    "\n",
    "1. **Villa Del Campo**\n",
    "2. **Thomas Alva Edison** (Industrial Zone)\n",
    "3. **El Niño**\n",
    "4. **Casa Blanca**\n",
    "5. **Toyota** (Manufacture Company - Industrial Zone)\n",
    "\n",
    "**We must be cautious about the information provided earlier, as this information was collected in the 2022. Also, recall that lot of observations were filtered, leaving out those observations with 'Tijuana' as locality.**"
   ]
  },
  {
   "cell_type": "markdown",
   "metadata": {},
   "source": [
    "2. **What is the most representative industry in TJ?**"
   ]
  },
  {
   "cell_type": "markdown",
   "metadata": {},
   "source": [
    "To adress this question, we must perform an analysis in those columns that gives us information about the industry that each business belongs to, if we take a brief look at the 'tj' dataframe we can see that we have some interesting columns that mey serves us to get good conclusions about the raised question. This columns are:\n",
    "\n",
    "1. nombre_act\n",
    "2. nom_estab\n",
    "3. minimum_employees\n",
    "\n"
   ]
  },
  {
   "cell_type": "markdown",
   "metadata": {},
   "source": [
    "First, lets take a look at the 'nombre_act' column, in this way we can see the state of the data"
   ]
  },
  {
   "cell_type": "code",
   "execution_count": null,
   "metadata": {},
   "outputs": [],
   "source": [
    "#Print the 'nombre_act' dataframe\n",
    "tj['nombre_act'].head(12)"
   ]
  },
  {
   "cell_type": "markdown",
   "metadata": {},
   "source": [
    "As we can see, the 'nombre_act' column has a description of the business, more specifically the sector to which the business fits in.\n",
    "\n",
    "this could be useful if we wanted to perform a deep analysis on each seactor, but, as we dont want to, we will only select the most representative word, that is, the first word of each observation and then save that element in a variable called 'sector' (tj['sector]). \n",
    "Lets do it!."
   ]
  },
  {
   "cell_type": "code",
   "execution_count": 84,
   "metadata": {},
   "outputs": [
    {
     "data": {
      "text/plain": [
       "52        Servicios\n",
       "60        Beneficio\n",
       "61        Beneficio\n",
       "77        Servicios\n",
       "79            Pesca\n",
       "83        Beneficio\n",
       "84            Otros\n",
       "92     Piscicultura\n",
       "228           Pesca\n",
       "291       Beneficio\n",
       "Name: sector, dtype: object"
      ]
     },
     "execution_count": 84,
     "metadata": {},
     "output_type": "execute_result"
    }
   ],
   "source": [
    "#Filter 'nombre_act' column by spliting each string and selecting the first element (word)\n",
    "tj['sector'] = tj['nombre_act'].apply(lambda x: x.split()[0])\n",
    "\n",
    "#Print the first 21 rows\n",
    "tj['sector'].head(10)"
   ]
  },
  {
   "cell_type": "markdown",
   "metadata": {},
   "source": [
    "Great, it seems that we've already filtered the first element and saved it in 'sector' column. Now, lets select the 5 most representative businesses sectors in Tijuana."
   ]
  },
  {
   "cell_type": "code",
   "execution_count": 85,
   "metadata": {},
   "outputs": [
    {
     "data": {
      "text/html": [
       "<div>\n",
       "<style scoped>\n",
       "    .dataframe tbody tr th:only-of-type {\n",
       "        vertical-align: middle;\n",
       "    }\n",
       "\n",
       "    .dataframe tbody tr th {\n",
       "        vertical-align: top;\n",
       "    }\n",
       "\n",
       "    .dataframe thead th {\n",
       "        text-align: right;\n",
       "    }\n",
       "</style>\n",
       "<table border=\"1\" class=\"dataframe\">\n",
       "  <thead>\n",
       "    <tr style=\"text-align: right;\">\n",
       "      <th></th>\n",
       "      <th>sector</th>\n",
       "      <th>minimum_employees</th>\n",
       "    </tr>\n",
       "  </thead>\n",
       "  <tbody>\n",
       "    <tr>\n",
       "      <th>60</th>\n",
       "      <td>Fabricación</td>\n",
       "      <td>77717</td>\n",
       "    </tr>\n",
       "    <tr>\n",
       "      <th>38</th>\n",
       "      <td>Comercio</td>\n",
       "      <td>72156</td>\n",
       "    </tr>\n",
       "    <tr>\n",
       "      <th>57</th>\n",
       "      <td>Escuelas</td>\n",
       "      <td>24245</td>\n",
       "    </tr>\n",
       "    <tr>\n",
       "      <th>123</th>\n",
       "      <td>Servicios</td>\n",
       "      <td>21525</td>\n",
       "    </tr>\n",
       "    <tr>\n",
       "      <th>119</th>\n",
       "      <td>Restaurantes</td>\n",
       "      <td>18255</td>\n",
       "    </tr>\n",
       "  </tbody>\n",
       "</table>\n",
       "</div>"
      ],
      "text/plain": [
       "           sector  minimum_employees\n",
       "60    Fabricación              77717\n",
       "38       Comercio              72156\n",
       "57       Escuelas              24245\n",
       "123     Servicios              21525\n",
       "119  Restaurantes              18255"
      ]
     },
     "execution_count": 85,
     "metadata": {},
     "output_type": "execute_result"
    }
   ],
   "source": [
    "#select the sum of the minimum employees in each business and group by sector\n",
    "industry_employees = tj.groupby('sector')['minimum_employees'].sum().reset_index()\n",
    "\n",
    "#Sort values in ascending, save the first 5 observations\n",
    "top5_2 = industry_employees.sort_values(by='minimum_employees', ascending=False).head(5)\n",
    "\n",
    "#Print the top5_2 df\n",
    "top5_2"
   ]
  },
  {
   "cell_type": "markdown",
   "metadata": {},
   "source": [
    "This looks fantastic, but, we will improve it performing a visualization of the insight!"
   ]
  },
  {
   "cell_type": "code",
   "execution_count": null,
   "metadata": {},
   "outputs": [],
   "source": [
    "#Definine barplot\n",
    "ax = sns.barplot(data = top5_2, x = 'sector', y = 'minimum_employees')\n",
    "\n",
    "#Custom set title\n",
    "ax.set_title('Min. Num of Employees by Sector')\n",
    "\n",
    "# Custom labels\n",
    "ax.set_ylabel('Employees')\n",
    "ax.set_xlabel(' ')\n",
    "\n",
    "#rotate labels\n",
    "plt.xticks(rotation=90)"
   ]
  },
  {
   "cell_type": "markdown",
   "metadata": {},
   "source": [
    "3. **What type of businesses that have survived more than 10 years?**"
   ]
  },
  {
   "cell_type": "markdown",
   "metadata": {},
   "source": [
    "To solve this question we will have to make use of two vaiables:\n",
    "\n",
    "1. fecha_alta\n",
    "2. tj_sector (variable assigned previously by us)\n",
    "\n",
    "First, we have to create a subset of tj by filtering those business with 10 years older or more, in order to do that, we must first have to check if the fecha_alta variable is a date time column."
   ]
  },
  {
   "cell_type": "code",
   "execution_count": null,
   "metadata": {},
   "outputs": [],
   "source": [
    "#Display fecha_alta type\n",
    "print(tj['fecha_alta'].info())"
   ]
  },
  {
   "cell_type": "markdown",
   "metadata": {},
   "source": [
    "We can see that this column is not a datetime data type. Let's convert it to datetime data type!."
   ]
  },
  {
   "cell_type": "code",
   "execution_count": null,
   "metadata": {},
   "outputs": [],
   "source": [
    "#Convert 'fecha_alta' data type to date_time object\n",
    "tj['fecha_alta'] = pd.to_datetime(tj['fecha_alta'])\n",
    "\n",
    "#Check if the operation has been done correctly\n",
    "tj['fecha_alta']"
   ]
  },
  {
   "cell_type": "markdown",
   "metadata": {},
   "source": [
    "Perfect, it seems that now is possible to perform a subset with all business with 10 years or more older. "
   ]
  },
  {
   "cell_type": "code",
   "execution_count": null,
   "metadata": {},
   "outputs": [],
   "source": [
    "#Create a subset 'older business' dataframe by filtering all the business that are 10 years old or older\n",
    "older_business = tj.loc[tj['fecha_alta'] <= '2012-01-01']\n",
    "\n",
    "#Preview subset\n",
    "older_business"
   ]
  },
  {
   "cell_type": "markdown",
   "metadata": {},
   "source": [
    "Now, once we have performed the filtering, we can group by sector and count how many business are living since 10 years ago, then, assgin the top 5 more reliables sectors in a variable called top5_3\n"
   ]
  },
  {
   "cell_type": "code",
   "execution_count": null,
   "metadata": {},
   "outputs": [],
   "source": [
    "#Group by sector and count all the business for each one\n",
    "top5_3 = older_business['sector'].value_counts().head(5)\n",
    "\n",
    "top5_3 = pd.DataFrame(top5_3).reset_index()\n",
    "\n",
    "top5_3.columns = ['sector', 'count']\n",
    "\n",
    "#Display top5_3\n",
    "display(top5_3)"
   ]
  },
  {
   "cell_type": "markdown",
   "metadata": {},
   "source": [
    "Great, we found what are the top 5 sectors that have survived along 10 years since 2012, lets visualize our findings and give a resume about our insights."
   ]
  },
  {
   "cell_type": "code",
   "execution_count": null,
   "metadata": {},
   "outputs": [],
   "source": [
    "#Definine barplot\n",
    "ax = sns.barplot(data = top5_3, x='sector', y='count')\n",
    "\n",
    "#Custom title\n",
    "ax.set_title('Business that have Survived +10 years')\n",
    "\n",
    "# Custom labels\n",
    "ax.set_ylabel('Count')\n",
    "ax.set_xlabel(' ')\n",
    "\n",
    "#rotate labels\n",
    "plt.xticks(rotation=90)"
   ]
  },
  {
   "cell_type": "markdown",
   "metadata": {},
   "source": [
    "4. **What are the top 3 businees by sector, in terms of seniority and size (How many people is working in the business) ?**"
   ]
  },
  {
   "cell_type": "markdown",
   "metadata": {},
   "source": [
    "Finally, we reach the final question to solve, to address this question we can use the variable 'sector' and the recently created 'older_business' dataframe. In order to do that, we have to create a dicitonary where each key represent a sector and each value a list with the 3 business with more employees from that sector. \n",
    "This businesses will have to be all old business (+10 years). Lets do it!"
   ]
  },
  {
   "cell_type": "code",
   "execution_count": 89,
   "metadata": {},
   "outputs": [
    {
     "data": {
      "text/plain": [
       "{'Otros': ['HIPODROMO DE AGUA CALIENTE SA DE CV',\n",
       "  'GOBIERNO DEL ESTADO ',\n",
       "  'TOTAL LOGISTICS S DE RL DE CV'],\n",
       " 'Minería': ['PETREMEX SA DE CV'],\n",
       " 'Captación,': ['COMISION ESTATAL DE SERVICIOS PÚBLICOS DE TIJUANA '],\n",
       " 'Generación': ['COMISION FEDERAL DE ELECTRICIDAD '],\n",
       " 'Edificación': ['A CONSTRUCTORES S DE RL DE CV',\n",
       "  'INGENIERIA CONSTRUCCION Y AIRE ACONDICIONADO SA DE CV',\n",
       "  'INMOBILIARIA Y DESARROLLADORA ENCASA SA DE CV'],\n",
       " 'Instalaciones': ['AIRE ACONDICIONADO DEL NOROESTE ARP SA DE CV',\n",
       "  'AIRE TEC DE MEXICO S DE RL DE CV',\n",
       "  'AJ CONSTRUCCIONES INDUSTRIALES S DE RL DE CV'],\n",
       " 'Construcción': ['ALBERCAS VALLARTA SA DE CV',\n",
       "  'JAPAL INGENIERÍA SA DE CV',\n",
       "  'URBANIZADORA ROMA '],\n",
       " 'Otras': ['AUTOSERVICIO TAURO ',\n",
       "  'IMPULSO COMERCIAL NACIONAL SA DE CV',\n",
       "  'TJ FRAMES & MOLDINGS SA DE CV'],\n",
       " 'Montaje': ['COMERCIAL DE ESTRUCTURAS METALICAS SA DE CV',\n",
       "  'CONCRETOS PRESFORZADOS DE BAJA CALIFORNIA SA DE CV',\n",
       "  'MARCAL CREACION ESTRUCTURAL SA DE CV'],\n",
       " 'Trabajos': ['GEOCIMENTACIONES DE TIJUANA S DE RL DE CV',\n",
       "  'MILETO CONSTRUCCIONES SA DE CV'],\n",
       " 'Preparación': ['CONSTRUCTORA Y ARRENDADORA CR SA DE CV',\n",
       "  'EMPACADORA ROSARITO SA DE CV',\n",
       "  'KAVE ALIMENTOS S DE RL DE CV'],\n",
       " 'Panificación': ['BIMBO SA DE CV',\n",
       "  'COMERCIALIZADORA DE PAN SA DE CV',\n",
       "  'DAWN MIXCO INTERNACIONAL SA DE CV'],\n",
       " 'Elaboración': ['PASTEURIZADORA JERSEY DEL NOROESTE SA',\n",
       "  'COMPAÑIA EMBOTELLADORA DEL FUERTE S DE RL DE CV',\n",
       "  'ALIMENTOS EXTRUIDOS SA DE CV'],\n",
       " 'Confección': ['CONFECCIONES RANGER DE MEXICO SA DE CV',\n",
       "  'DUCCO S DE RL DE CV',\n",
       "  'EB INTERNACIONAL SA DE CV'],\n",
       " 'Purificación': ['AGUA PURIFICADA ICEBERG ',\n",
       "  'COMPAÑIA GENERAL DE AGUAS S DE RL DE CV',\n",
       "  'FUENTES BROTANTES DE TIJUANA SA DE CV'],\n",
       " 'Fabricación': ['MAM DE LA FRONTERA SA DE CV',\n",
       "  'SMITHS HEALTHCARE MANUFACTURING SA DE CV',\n",
       "  'CORRUGADOS DE BAJA CALIFORNIA S DE RL DE CV'],\n",
       " 'Conservación': ['SUPER ANTOJITOS SA DE CV'],\n",
       " 'Impresión': ['BOSGRAFT ',\n",
       "  'CB IMAGEN EXTERIOR SA DE CV',\n",
       "  'SOLUM ELECTRONICS MEXICANA SA DE CV'],\n",
       " 'Industria': ['ALUMINIO DE BAJA CALIFORNIA SA DE CV'],\n",
       " 'Maquinado': ['MAQUINADOS Y SERVICIOS INDUSTRIALES DE TIJUANA SA DE CV',\n",
       "  'MIN INDUSTRIAL S DE RL DE CV',\n",
       "  'RD MAQUINADOS S DE RL DE CV'],\n",
       " 'Moldeo': ['FERROMESA SA DE CV',\n",
       "  'FUNDICION ARECHIGA SA DE CV',\n",
       "  'IMAGE CASTING MEXICO SA DE CV'],\n",
       " 'Metalistería': ['INDUSTRIAS DE BRONCE ARTISTICO SA DE CV'],\n",
       " 'Recubrimientos': ['PLATINADORA BAJA SA DE CV',\n",
       "  'PULIDOS INDUSTRIALES SA DE CV'],\n",
       " 'Comercio': ['CADENA COMERCIAL OXXO SA DE CV',\n",
       "  'BAJA PAINT SA DE CV',\n",
       "  'CENTRAL DETALLISTA SA DE CV'],\n",
       " 'Intermediación': ['EFECTIVALE S DE RL DE CV'],\n",
       " 'Farmacias': ['FARMACIAS MODERNAS DE TIJUANA SA DE CV',\n",
       "  'FARMACIAS DE SIMILARES SA DE CV',\n",
       "  'FARMACIAS BENAVIDES SAB DE CV'],\n",
       " 'Servicios': ['GOBIERNO MUNICIPAL ',\n",
       "  'GRUPO TELVISTA SA DE CV',\n",
       "  'FOTO COLOR RAPIDO DE NAVOJOA SA DE CV'],\n",
       " 'Administración': ['HONORABLE AYUNTAMIENTO DE TIJUANA ',\n",
       "  'GOBIERNO MUNICIPAL ',\n",
       "  'GOBIERNO DEL ESTADO DE BAJA CALIFORNIA '],\n",
       " 'Alquiler': ['RENTAS MARTIN DEL CAMPO SA',\n",
       "  'BAJA RENTALS SA DE CV',\n",
       "  'A FIESTA ELEGANTE SA DE CV'],\n",
       " 'Otro': ['A G TRUCKING GROUP INC S DE RL DE CV',\n",
       "  'TRANSPORTES ESPECIALIZADOS ACV SA DE CV',\n",
       "  'TRANSPORTES TOROCO S DE RL DE CV'],\n",
       " 'Transporte': ['ADMINISTRACION CAMIONERA DE NAYARIT SA DE CV',\n",
       "  'LINEAS DE TRANSPORTES URBANOS Y SUB URBANOS DE BAJA CALIFORNIA SA DE CV',\n",
       "  'TRANSPORTES URBANOS Y SUB URBANOS TIJUANA SA'],\n",
       " 'Autotransporte': ['TRANSPORTACION OCCIDENTAL SA DE CV',\n",
       "  'TRANSPORTES CAMACHO SA DE CV'],\n",
       " 'Almacenamiento': ['FRIALSA FRIGORIFICOS SA DE CV'],\n",
       " 'Bibliotecas': ['ADMINISTRACIÓN DE ARCHIVOS SC',\n",
       "  'BIBLIOTECA PIBLICA MUNICIPAL MARIA LUISA MERO DE RAMES ',\n",
       "  'BIBLIOTECA PÚBLICA DEL AYUNTAMIENTO '],\n",
       " 'Operadores': ['TELECOMUNICACIONES DE MEXICO ',\n",
       "  'ATT COMUNICACIONES DIGITALES ',\n",
       "  'ATT COMUNICACIONES DIGITALES S DE RL DE CV'],\n",
       " 'Exhibición': ['EXIBIDORA MEXICANA CINEPOLIS SA DE CV',\n",
       "  'OPERADORA DE CINEMAS SA DE CV'],\n",
       " 'Edición': ['AGENCIA ESTATAL DE INFORMACION AC',\n",
       "  'COMPUTACION EN ACCION SA DE CV',\n",
       "  'CONVERXION SA DE CV'],\n",
       " 'Procesamiento': ['EDENRED MEXICO SA DE CV'],\n",
       " 'Transmisión': ['TELEVISION AZTECA SA',\n",
       "  'GRUPO RADIO DIGITAL SIGLO 21 SA DE CV',\n",
       "  'GRUPO UNIRADIO SA DE CV'],\n",
       " 'Agencias': ['VUELOS DE MEXICO SA DE CV',\n",
       "  'VIAJES LINCOLN SA DE CV',\n",
       "  'VIAJES VENECIA 2 '],\n",
       " 'Agentes,': ['ASEGURADORA BCS CONSULTING ',\n",
       "  'DUPRAT Y ASOCIADOS AGENTE DE SEGUROS Y FIANZAS SA DE CV',\n",
       "  'ENSUMA AGENTE DE SEGUROS Y DE FIANZAS SA DE CV'],\n",
       " 'Cajas': ['AQUI TE PRESTO DE MEXICO S DE RL DE CV',\n",
       "  'CAJA DE AHORRO PRESNTE AC',\n",
       "  'OPCIONES EMPRESARIALES DEL NORESTE SA DE CV SFP'],\n",
       " 'Casas': ['QAR DEL NOROESTE SA DE CV',\n",
       "  'CASA DE EMPEÑO LA MEJOR ',\n",
       "  'BAZAR INTERNACIONAL SA DE CV'],\n",
       " 'Banca': ['BANCO NACIONAL DE MÉXICO S A INTEGRANTE DEL GRUPO FINANCIERO BANAMEX SA',\n",
       "  'BANCO AZTECA INSTITUCION DE BANCA MULTIPLE SA',\n",
       "  'BBVA BANCOMER INSTITUCIÓN DE BANCA MÚLTIPLE GRUPO FINANCIERO BBVA SA DE CV'],\n",
       " 'Centros': ['EL RUBI CENTRO CAMBIARIO SA DE CV',\n",
       "  'EXPRESS CAM CENTRO CAMBIARIO SA DE CV',\n",
       "  'CENTRO CAMBIARIO MULTISERVICIOS BOSTON SA DE CV'],\n",
       " 'Compañías': ['CHUBB DE MÉXICO COMPAÑÍA DE SEGUROS SA DE CV',\n",
       "  'PROTECCION GENERAL EN SEGUROS SA DE CV',\n",
       "  'QUALITAS COMPAÑIA DE SEGUROS SA DE CV'],\n",
       " 'Sociedades': ['CREDITO FAMILIAR SA DE CV SOFOM ER',\n",
       "  'FINANCIERA INDEPENDENCIA SAB DE CV SOFOM ENR',\n",
       "  'PRESTI QUICK SOFOM ENR'],\n",
       " 'Inmobiliarias': ['ARRENDADORA RUIZ Y ALVARADO SC',\n",
       "  'BIENES PROGRAMADOS SA DE CV',\n",
       "  'SERVICIOS MULTIPLES VACACIONALES '],\n",
       " 'Bufetes': ['DESPACHO JURÍDICO ',\n",
       "  'OCAMPO Y ROMEROS ABOGADOS ',\n",
       "  'IBLC ABOGADOS SC'],\n",
       " 'Diseño': ['PREFABGS SA DE CV'],\n",
       " 'Notarías': ['CORREDURIA OSEGUERA SC', 'DEL MONTE Y ASOCIADOS SC'],\n",
       " 'Laboratorios': ['LABORATORIOS GAMBOA SA',\n",
       "  'BANCO DE SANGRE Y LABORATORIO CLINICO DEL NOROESTE SA DE CV DE RL',\n",
       "  'CORPORACION ESTRADA HERMANOS SA DE CV'],\n",
       " 'Suministro': ['ADMINISTRACION COORPORATIVA DE ESTACIONES Y ASOCIADOS SC',\n",
       "  'CORPORATIVO ESPECIALISTA EN ADMINISTRACION DE PERSONAL GOR ',\n",
       "  'DERIVADOS DE GASA SA DE CV'],\n",
       " 'Manejo': ['BAJA WASTEWATER SOLUTION ',\n",
       "  'MEDAM S DE RL DE CV',\n",
       "  'PROMOTORA AMBIENTAL DE LA LAGUNA SA DE CV'],\n",
       " 'Recolección': ['RECOLECTORA DE DESECHOS Y RESIDUOS KING KONG SA DE CV'],\n",
       " 'Organización': ['TAINO TOURS SA DE CV'],\n",
       " 'Tratamiento': ['VEOLIA SA DE CV'],\n",
       " 'Escuelas': ['ISEP ', 'GOBIERNO ', 'GOBIERNO FEDERAL '],\n",
       " 'Consultorios': ['ACNE FACIALES ',\n",
       "  'HOPE4CANCER MEXICO S DE RL DE CV',\n",
       "  'INSTITUTO DE LA VISION DR MENDEZ SC'],\n",
       " 'Agrupaciones': ['CENTRAL MEXICANA DE SERVICIOS GENERALES DE ALCOHOLICOS ANONIMOS AC',\n",
       "  'ALCOHOLICOS ANONIMOS AC',\n",
       "  'CENTRAL MEXICANA DE ALCOHOLICOS ANONIMOS AC'],\n",
       " 'Orfanatos': ['EJERCITO DE SALVACION AC',\n",
       "  'ALBERGUE PARA MIGRANTES Y RESTAURACION JEHOVA PROTEGE A SU PUEBLO AC',\n",
       "  'ALBERGUE TEMPORAL '],\n",
       " 'Asilos': ['FUNDACION BARRAQUIEL D. FIMBRES AC'],\n",
       " 'Hospitales': ['ADVANCE HEALTH MEDICAL CENTER SA DE CV',\n",
       "  'ORGANIZACION AVANZADA EN SISTEMAS INTEGRALES PARA LA SALUD SC',\n",
       "  'INSTITUTO DE SEGURIDAD Y SERVICIOS SOCIALES DE TRABAJADORES DEL ESTADO Y MUNICIPIO '],\n",
       " 'Clínicas': ['BIO MEDICAL CENTER SA DE CV',\n",
       "  'CENTRO DE SALUD URBANO TERRAZAS DEL VALLE ',\n",
       "  'DIF '],\n",
       " 'Refugios': ['CASA DEL MIGRANTE DE TIJUANA AC'],\n",
       " 'Guarderías': ['ESTANCIAS INFANTILES DE BAJA CALIFORNIA AC',\n",
       "  'DIF MUNICIPAL ',\n",
       "  'ESTANCIA INFANTIL DE BAJA CALIFORNIA SC'],\n",
       " 'Residencias': ['CENTRO DE REHABILITACIÓN SIGAMOS LIMPIOS AC',\n",
       "  'NUEVA VICION '],\n",
       " 'Venta': ['ESTABLESIMIENTO DE LA LOTERIA '],\n",
       " 'Parques': ['DELEGACIÓN EJIDO CHILPANCINGO ',\n",
       "  'EL COLEGIO DE LA FRONTERA ',\n",
       "  'MUNDO DIVERTIDO DE LA MESA S DE RL DE CV'],\n",
       " 'Clubes': ['ASOCIACION CRISTIANA DE JOVENES DE LA CIUDAD DE MEXICO YMCA AC',\n",
       "  'ASOCIACION DE FUTBOL RAPIDO DE TIJUANA AC',\n",
       "  'CAMPOS REFORMA AYUNTAMIENTO '],\n",
       " 'Billares': ['MARISCOS TITOS SA DE CV'],\n",
       " 'Boliches': ['PROMOTORA DE BOLICHE DEL PACIFICO SA DE CV',\n",
       "  'TRADICION DESDE 1934 '],\n",
       " 'Promotores': ['IMAC ', 'INSTITUTO MUNICIPAL DE ARTE Y CULTURA '],\n",
       " 'Museos': ['COMPAÑIA OPERADORA DEL CENTRO CULTURAL Y TURISTICO DE TIJUANA SA DE CV',\n",
       "  'MUSEO INTERACTIVO TIJUANA AC'],\n",
       " 'Equipos': ['HIPODROMO DE AGUA CALIENTE SA DE CV',\n",
       "  'SERVICIOS PROFESIONALES DE OPERACION SA DE CV'],\n",
       " 'Restaurantes': ['CENTURA ALIMENTOS SAPI DE CV',\n",
       "  'ICR SA DE CV',\n",
       "  'RESTAURANTES ADMX S DE RL DE CV'],\n",
       " 'Bares,': ['BAR EJECUTIVO ', 'CASA MADRID ', 'CHEZ SA DE CV'],\n",
       " 'Cafeterías,': ['CAFE SIRENA S DE RL DE CV',\n",
       "  'CAFÉ BARISTI ',\n",
       "  'CENTRO BOTÁNICO MERKABA '],\n",
       " 'Hoteles': ['CIA HOTELERA DE LA MESA SA DE CV',\n",
       "  'OPERADORA HOTELERA BAJA SA DE CV',\n",
       "  'GRUPO CORPORATIVO HOTELERO DEL NORTE SA DE CV'],\n",
       " 'Moteles': ['OPERADORA DE HOTELES DE BAJA CALIFORNIA SA DE CV',\n",
       "  'OPERADORA DE HOTELES Y MOTELES GALIMEX SA DE CV',\n",
       "  'ALCYNNE SA DE CV'],\n",
       " 'Asociaciones': ['ARQUIDIOCESIS DE TIJUANA AR',\n",
       "  'IGLESIA APOSTOLICA DE LA FE EN CRISTO JESUS AR',\n",
       "  'ASAMBLEAS DE DIOS AR'],\n",
       " 'Lavanderías': ['DRY CLEANNIG OLIMPICA LIMPIADURIA ',\n",
       "  'LAVADORAS SPLASH ',\n",
       "  'LAVADORAS SPLASH DE RL DE CV'],\n",
       " 'Salones': ['BAJA PLASTIC SURGERY Y MED SPA SA DE CV',\n",
       "  'CLINICA NARO S DE RL DE CV',\n",
       "  'VERSALLES SALON & SPA '],\n",
       " 'Cerrajerías': ['LA LLAVE DE ORO '],\n",
       " 'Reparación': ['AUTO SERVICIO CORDOVA SA DE CV',\n",
       "  'SERVICIO CRUZ ',\n",
       "  'MECANICA PREMIER '],\n",
       " 'Asociaciones,': ['ASOCIACIÓN DE CONDOMINOS DEL CENTRO COMERCIAL DE OTAY AC',\n",
       "  'ASOCIACIÓN DE INDUSTRIALES DE LA MESA DE OTAY AC',\n",
       "  'CAMARA MEXICANA DE LA INDUSTRIA DE LA CONSTRUCCIÓN SC'],\n",
       " 'Alineación': ['LLANTAS Y SERVICOS FALCRO S DE RL DE CV',\n",
       "  'SERVICIO OTAY ',\n",
       "  'SERVICIOS SÁNCHEZ '],\n",
       " 'Lavado': ['AUTODETALLADO 4 POR 4 SA DE CV',\n",
       "  'CAR WASH CACTUS ',\n",
       "  'GRUPO JESCO SA DE CV'],\n",
       " 'Hojalatería': ['CALIFORNIA HI TEC S DE RL DE CV',\n",
       "  'GRUPO AUTOMOTRIZ CENTRAL SA DE CV',\n",
       "  'NEXTLINK COMUNICATIONS SA'],\n",
       " 'Estacionamientos': ['GRUPO BRAVA SA DE CV',\n",
       "  'ADMINISTRACIÓN CAMIONERA DE NAYARIT SA DE CV',\n",
       "  'ADYS DE TIJUANA SA DE CV'],\n",
       " 'Impartición': ['PODER JUDICIAL DE LA FEDERACIÓN ',\n",
       "  'PODER JUDICIAL DEL ESTADO DE BAJA CALIFORNIA ',\n",
       "  'PROCURADURÍA GENERAL DE JUSTICIA DEL ESTADO BAJA CALIFORNIA '],\n",
       " 'Actividades': ['GOBIERNO DEL ESTADO ',\n",
       "  'GOBIERNO DEL ESTADO DE BAJA CALIFORNIA ',\n",
       "  'HONORABLE AYUNTAMIENTO DE TIJUANA '],\n",
       " 'Regulación': ['GOBIERNO DEL ESTADO DE BAJA CALIFORNIA ',\n",
       "  'GOBIERNO MUNICIPAL ',\n",
       "  'CESPT ']}"
      ]
     },
     "execution_count": 89,
     "metadata": {},
     "output_type": "execute_result"
    }
   ],
   "source": [
    "#Initialize dictionary where elements will be stored\n",
    "top_business_by_sector = {}\n",
    "\n",
    "\n",
    "#Create a list for each unique element in sector column\n",
    "sectors = older_business['sector'].unique()\n",
    "\n",
    "#Create the dictionary\n",
    "for sector in sectors:\n",
    "    #Create local variables \n",
    "    list_tuples = []\n",
    "    list_business = []\n",
    "\n",
    "    #Adding top 3 business in tuples list\n",
    "    list_tuples = older_business.loc[older_business['sector'] == sector, ['raz_social']]\\\n",
    "                            .value_counts(ascending=False)\\\n",
    "                            .head(3)\\\n",
    "                            .index.tolist()\n",
    "    \n",
    "    #Converting tuples to list format\n",
    "    for element in list_tuples:\n",
    "        list_business.append(list(element)[0])\n",
    "\n",
    "    #Addinf list of top business by sector\n",
    "    top_business_by_sector[sector] = list_business\n",
    "\n",
    "    #Filtering those list with len=0\n",
    "    if len(top_business_by_sector[sector]) == 0:\n",
    "        del top_business_by_sector[sector]\n",
    "\n",
    "#Review the dictionary recently created\n",
    "top_business_by_sector"
   ]
  },
  {
   "cell_type": "markdown",
   "metadata": {},
   "source": [
    "We can realize that for each key we have a list of "
   ]
  }
 ],
 "metadata": {
  "kernelspec": {
   "display_name": "base",
   "language": "python",
   "name": "python3"
  },
  "language_info": {
   "codemirror_mode": {
    "name": "ipython",
    "version": 3
   },
   "file_extension": ".py",
   "mimetype": "text/x-python",
   "name": "python",
   "nbconvert_exporter": "python",
   "pygments_lexer": "ipython3",
   "version": "3.11.3"
  },
  "orig_nbformat": 4
 },
 "nbformat": 4,
 "nbformat_minor": 2
}
